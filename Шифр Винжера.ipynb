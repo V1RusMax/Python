{
 "cells": [
  {
   "cell_type": "markdown",
   "id": "fed08246",
   "metadata": {},
   "source": [
    "# Шифр Винжера"
   ]
  },
  {
   "cell_type": "markdown",
   "id": "330ce4e6",
   "metadata": {},
   "source": [
    "В коде реализован шифр Винжера- метод полиалфавитного шифрования буквенного текста с использованием ключевого слова ( в данном случае кода-ключа)\n",
    "Функция принимает на входе 4 аргумента:\n",
    "- text - текстовая строка исходного текста (зашифрованного или подаваемого для зашифровки)\n",
    "- key - ключ, состоящий из цифр\n",
    "- alphabet='ABCDEFGHIJKLMNOPQRSTUVWXYZ' текстовая строка алфавита - по умолчанию английский\n",
    "- reverse=False переключение функции шифрации/дешифрации"
   ]
  },
  {
   "cell_type": "code",
   "execution_count": 3,
   "id": "fd7426c4",
   "metadata": {},
   "outputs": [],
   "source": [
    "def jarriquez_encryption(text, key, alphabet='ABCDEFGHIJKLMNOPQRSTUVWXYZ', reverse=False):\n",
    "    # тут не самый лучший выход, вместо того чтобы зациклить я просто умножаю алфавит на 10) когда-нибудь приджумаю\n",
    "    # что-то лучше\n",
    "    alphabet2 = alphabet*10\n",
    "    # переменная криптограммы для хранения текста перегнанного в цифры\n",
    "    cryptogramm = []\n",
    "    # результат функции\n",
    "    result = \"\"\n",
    "    # делаю из ключа список для итерации\n",
    "    key = [i for i in str(key)]\n",
    "    # заполняю криптограмму ключом по длине моего десятикратного алфавита\n",
    "    for i in range(len(alphabet2)):\n",
    "        cryptogramm.append(str(key[i % len(key)]))\n",
    "    # счётчик для определения индекса буквы в тексте\n",
    "    counter = -1\n",
    "    # перебираю текст\n",
    "    for i in text:\n",
    "        # без учёта пробелов\n",
    "        if i!= \" \":\n",
    "            # Шифрация\n",
    "            if reverse == False:\n",
    "                counter += 1\n",
    "                # ищу номер(индекс) буквы в алфавите\n",
    "                index = alphabet.find(i.upper())\n",
    "                # рассчитываю новый индекс - это индекс в алфавите + цифра изменения индекса для этой буквы из ключа\n",
    "                newindex = int(index) + int(cryptogramm[counter])\n",
    "                # записываю в результат букву i с новым индексом\n",
    "                result += alphabet2[newindex]\n",
    "            # Дешифрация\n",
    "            if reverse == True:\n",
    "                counter += 1\n",
    "                index = alphabet.find(i.upper())\n",
    "                # тут оличие только в том, что я отнимаю индекс по ключу- обратный процесс\n",
    "                newindex = int(index) - int(cryptogramm[counter])\n",
    "                result += alphabet2[newindex]  \n",
    "    # возвращаю результат\n",
    "    return result"
   ]
  },
  {
   "cell_type": "markdown",
   "id": "094f441a",
   "metadata": {},
   "source": [
    "## дешифровка"
   ]
  },
  {
   "cell_type": "code",
   "execution_count": 5,
   "id": "d2f54a4c",
   "metadata": {},
   "outputs": [
    {
     "name": "stdout",
     "output_type": "stream",
     "text": [
      "SOMEENCRIPTEDTEXTFORTHISASSIGNMENT\n"
     ]
    }
   ],
   "source": [
    "my_text = \"UUNEFWKXKVUEECMDVLPRUQQYCYTIHWUKPZ\"\n",
    "my_key = 26101986\n",
    "print(jarriquez_encryption(my_text, my_key, alphabet='ABCDEFGHIJKLMNOPQRSTUVWXYZ', reverse=True))"
   ]
  },
  {
   "cell_type": "code",
   "execution_count": 10,
   "id": "159f6413",
   "metadata": {},
   "outputs": [
    {
     "name": "stdout",
     "output_type": "stream",
     "text": [
      "ЯЗАШИФРОВАЛТУТТЕКСТИВОТОН\n"
     ]
    }
   ],
   "source": [
    "my_text = \"БНБШЙЭШФДЖМТФЫЪЛМЧУИГЧЪФП\"\n",
    "my_key = 26101986\n",
    "my_alphabet = \"АБВГДЕЖЗИЙКЛМНОПРСТУФХЦЧШЩЪЫЬЭЮЯ\"\n",
    "print(jarriquez_encryption(my_text, my_key, my_alphabet, reverse=True))"
   ]
  },
  {
   "cell_type": "markdown",
   "id": "95b7fb9a",
   "metadata": {},
   "source": [
    "## шифрование"
   ]
  },
  {
   "cell_type": "code",
   "execution_count": 15,
   "id": "5060b314",
   "metadata": {},
   "outputs": [
    {
     "name": "stdout",
     "output_type": "stream",
     "text": [
      "БНБШЙЭШФДЖМТФЫЪЛМЧУИГЧЪФП\n"
     ]
    }
   ],
   "source": [
    "my_text = \"Я Зашифровал тут текст и вот он\"\n",
    "my_key = 26101986\n",
    "my_alphabet = \"АБВГДЕЖЗИЙКЛМНОПРСТУФХЦЧШЩЪЫЬЭЮЯ\"\n",
    "print(jarriquez_encryption(my_text, my_key, my_alphabet, reverse=False))"
   ]
  },
  {
   "cell_type": "markdown",
   "id": "374fa569",
   "metadata": {},
   "source": [
    "# Расшифровка перебором"
   ]
  },
  {
   "cell_type": "markdown",
   "id": "65a64149",
   "metadata": {},
   "source": [
    "- Исходный текст - ФЦХИВЬКЧУПДДПРИЛРЦРУЮКФЙМФХЙДТФСРНЗСБКСГХЦОГНТКРКВОЯГПАТЛТВЦЮНСЕПДСЛХППЙ\n",
    "- Алфавит - АБВГДЕЖЗИЙКЛМНОПРСТУФХЦЧШЩЪЫЬЭЮЯ\n",
    "- Известно, что в тексте есть слова \"люблю\" и \"код\"\n",
    "- Ключ - значение не более шестизначного\n",
    "- Необходимо расшифровать текст и вывести ключ"
   ]
  },
  {
   "cell_type": "code",
   "execution_count": 18,
   "id": "74fbcbae",
   "metadata": {},
   "outputs": [],
   "source": [
    "my_text = \"ФЦХИВЬКЧУПДДПРИЛРЦРУЮКФЙМФХЙДТФСРНЗСБКСГХЦОГНТКРКВОЯГПАТЛТВЦЮНСЕПДСЛХППЙ\"\n",
    "my_alphabet = \"АБВГДЕЖЗИЙКЛМНОПРСТУФХЦЧШЩЪЫЬЭЮЯ\""
   ]
  },
  {
   "cell_type": "code",
   "execution_count": 19,
   "id": "57491e7a",
   "metadata": {},
   "outputs": [
    {
     "name": "stdout",
     "output_type": "stream",
     "text": [
      "ТУТЗАШИФРОВАННЕКОТОРЫЙТЕКСТИВОТОНМЕНЯЗОВУТМАКСИМИЯЛЮБЛЮПИСАТЬКОДНАПИТОНЕ\n",
      "233124\n"
     ]
    }
   ],
   "source": [
    "for i in range(1, 999999):\n",
    "    kerogaz = jarriquez_encryption(my_text, i, alphabet=my_alphabet, reverse=True)\n",
    "    if \"ЛЮБЛЮ\" in kerogaz and \"КОД\" in kerogaz:\n",
    "        print(kerogaz)\n",
    "        print(i)"
   ]
  },
  {
   "cell_type": "code",
   "execution_count": null,
   "id": "3aa0809d",
   "metadata": {},
   "outputs": [],
   "source": []
  }
 ],
 "metadata": {
  "kernelspec": {
   "display_name": "Python 3 (ipykernel)",
   "language": "python",
   "name": "python3"
  },
  "language_info": {
   "codemirror_mode": {
    "name": "ipython",
    "version": 3
   },
   "file_extension": ".py",
   "mimetype": "text/x-python",
   "name": "python",
   "nbconvert_exporter": "python",
   "pygments_lexer": "ipython3",
   "version": "3.10.9"
  },
  "toc": {
   "base_numbering": 1,
   "nav_menu": {},
   "number_sections": true,
   "sideBar": true,
   "skip_h1_title": false,
   "title_cell": "Table of Contents",
   "title_sidebar": "Contents",
   "toc_cell": false,
   "toc_position": {},
   "toc_section_display": true,
   "toc_window_display": false
  },
  "varInspector": {
   "cols": {
    "lenName": 16,
    "lenType": 16,
    "lenVar": 40
   },
   "kernels_config": {
    "python": {
     "delete_cmd_postfix": "",
     "delete_cmd_prefix": "del ",
     "library": "var_list.py",
     "varRefreshCmd": "print(var_dic_list())"
    },
    "r": {
     "delete_cmd_postfix": ") ",
     "delete_cmd_prefix": "rm(",
     "library": "var_list.r",
     "varRefreshCmd": "cat(var_dic_list()) "
    }
   },
   "types_to_exclude": [
    "module",
    "function",
    "builtin_function_or_method",
    "instance",
    "_Feature"
   ],
   "window_display": false
  }
 },
 "nbformat": 4,
 "nbformat_minor": 5
}
