{
 "cells": [
  {
   "cell_type": "markdown",
   "id": "d9eba3ca",
   "metadata": {},
   "source": [
    "# Число капрекара"
   ]
  },
  {
   "cell_type": "markdown",
   "id": "825db872",
   "metadata": {},
   "source": [
    "Функция принимает целое число, и запускает \"Процесс Капрекара\" , выводя на печать каждое число цикла с новой строки до тех пор, пока не будет получено число Капрекара.\n",
    "\n",
    "Конечных постоянных Капрекара 4: 495, 6174, 549945, 631764.\n",
    "\n",
    "Для некоторых 6-значных чисел возможно не будет найдена постоянная Капрекара, но процесс \"зациклится\", т.е. одни и те же числа будут получаться по кругу. В этом случае процедура прервется на первом задвоившимся числе.\n",
    "\n",
    "В итоге возможно 3 варианта:\n",
    "\n",
    "- Число не удовлетворяет условиям процесса Капрекара - выводится сообщение \"Ошибка! На вход подано число {}, не удовлетворяющее условиям процесса Капрекара\"\n",
    "- Процесс Капрекара сходится к постоянной Капрекара (495, 6174, 549945 или 631764) - на печать выводятся все числа, начиная с исходного и до постоянной Капрекара, каждое с новой строки\n",
    "- Процесс Капрекара зацикливается - выводятся все числа до момента зацикливания, после чего выводится сообщение \"Следующее число - {}, кажется процесс зациклился...\"\n",
    "\n"
   ]
  },
  {
   "cell_type": "code",
   "execution_count": 1,
   "id": "87c19733",
   "metadata": {},
   "outputs": [],
   "source": [
    "# Число  на входе разбивается в список\n",
    "def numerics(n):\n",
    "    number = str(n)\n",
    "    row = [int(i) for i in number]\n",
    "    return row\n",
    "# проверяем подходи ли число для наших манипуляций\n",
    "def kaprekar_check(n):\n",
    "    bad_nums = ['100', '1000', '100000']\n",
    "    counts = [3, 4, 6]\n",
    "    if ''.join(map(str, n)) in bad_nums:\n",
    "        return False\n",
    "    if len(set(n)) == 1:\n",
    "        return False\n",
    "    if len(n) not in counts:\n",
    "        return False\n",
    "    else:\n",
    "        return True\n",
    "\n",
    "# функция шага преобразования капрекара    \n",
    "def kaprekar_step(L):\n",
    "    row = []\n",
    "    for i in L:\n",
    "        row.append(int(i))\n",
    "    row.sort()\n",
    "    row1 = row[::-1]\n",
    "    number1 = ''.join(map(str, row))\n",
    "    number2 = ''.join(map(str, row1))\n",
    "    return int(number2) - int(number1)\n",
    "\n",
    "# полный цикл капрекара\n",
    "def kaprekar_loop(n):\n",
    "    if not kaprekar_check(numerics(n)):\n",
    "        print(f\"Ошибка! На вход подано число {n}, не удовлетворяющее условиям процесса Капрекара\")\n",
    "    else:\n",
    "        print(n)\n",
    "        karpeerror = []\n",
    "        while n not in [495, 6174, 549945, 631764]:\n",
    "            n = kaprekar_step(numerics(n))\n",
    "            if n not in karpeerror:\n",
    "                karpeerror.append(n)\n",
    "            else:\n",
    "                print(f\"Следующее число - {n}, кажется процесс зациклился...\")\n",
    "                break\n",
    "            print(n)"
   ]
  },
  {
   "cell_type": "markdown",
   "id": "a8e028c5",
   "metadata": {},
   "source": [
    "## Результаты работы функции"
   ]
  },
  {
   "cell_type": "code",
   "execution_count": 2,
   "id": "b9d1675b",
   "metadata": {},
   "outputs": [
    {
     "name": "stdout",
     "output_type": "stream",
     "text": [
      "123\n",
      "198\n",
      "792\n",
      "693\n",
      "594\n",
      "495\n"
     ]
    }
   ],
   "source": [
    "kaprekar_loop(123)"
   ]
  },
  {
   "cell_type": "code",
   "execution_count": 3,
   "id": "606e7498",
   "metadata": {},
   "outputs": [
    {
     "name": "stdout",
     "output_type": "stream",
     "text": [
      "105486\n",
      "850842\n",
      "860832\n",
      "862632\n",
      "642654\n",
      "420876\n",
      "851742\n",
      "750843\n",
      "840852\n",
      "Следующее число - 860832, кажется процесс зациклился...\n"
     ]
    }
   ],
   "source": [
    "kaprekar_loop(105486)"
   ]
  },
  {
   "cell_type": "code",
   "execution_count": 7,
   "id": "e1baa0f0",
   "metadata": {},
   "outputs": [
    {
     "name": "stdout",
     "output_type": "stream",
     "text": [
      "1041\n",
      "3996\n",
      "6264\n",
      "4176\n",
      "6174\n"
     ]
    }
   ],
   "source": [
    "kaprekar_loop(1041)"
   ]
  },
  {
   "cell_type": "code",
   "execution_count": 10,
   "id": "2bd58564",
   "metadata": {},
   "outputs": [
    {
     "name": "stdout",
     "output_type": "stream",
     "text": [
      "5032\n",
      "5085\n",
      "7992\n",
      "7173\n",
      "6354\n",
      "3087\n",
      "8352\n",
      "6174\n"
     ]
    }
   ],
   "source": [
    "kaprekar_loop(5032)"
   ]
  },
  {
   "cell_type": "code",
   "execution_count": 4,
   "id": "59978085",
   "metadata": {},
   "outputs": [
    {
     "name": "stdout",
     "output_type": "stream",
     "text": [
      "Ошибка! На вход подано число 100, не удовлетворяющее условиям процесса Капрекара\n"
     ]
    }
   ],
   "source": [
    "kaprekar_loop(100)"
   ]
  },
  {
   "cell_type": "code",
   "execution_count": 5,
   "id": "9c8d02c5",
   "metadata": {},
   "outputs": [
    {
     "name": "stdout",
     "output_type": "stream",
     "text": [
      "Ошибка! На вход подано число 9999999, не удовлетворяющее условиям процесса Капрекара\n"
     ]
    }
   ],
   "source": [
    "kaprekar_loop(9999999)"
   ]
  },
  {
   "cell_type": "code",
   "execution_count": 8,
   "id": "720a1f01",
   "metadata": {},
   "outputs": [
    {
     "name": "stdout",
     "output_type": "stream",
     "text": [
      "Ошибка! На вход подано число 1111, не удовлетворяющее условиям процесса Капрекара\n"
     ]
    }
   ],
   "source": [
    "kaprekar_loop(1111)"
   ]
  },
  {
   "cell_type": "code",
   "execution_count": null,
   "id": "c0601c3d",
   "metadata": {},
   "outputs": [],
   "source": []
  }
 ],
 "metadata": {
  "kernelspec": {
   "display_name": "Python 3 (ipykernel)",
   "language": "python",
   "name": "python3"
  },
  "language_info": {
   "codemirror_mode": {
    "name": "ipython",
    "version": 3
   },
   "file_extension": ".py",
   "mimetype": "text/x-python",
   "name": "python",
   "nbconvert_exporter": "python",
   "pygments_lexer": "ipython3",
   "version": "3.10.9"
  },
  "toc": {
   "base_numbering": 1,
   "nav_menu": {},
   "number_sections": true,
   "sideBar": true,
   "skip_h1_title": false,
   "title_cell": "Table of Contents",
   "title_sidebar": "Contents",
   "toc_cell": false,
   "toc_position": {
    "height": "calc(100% - 180px)",
    "left": "10px",
    "top": "150px",
    "width": "428.8px"
   },
   "toc_section_display": true,
   "toc_window_display": true
  },
  "varInspector": {
   "cols": {
    "lenName": 16,
    "lenType": 16,
    "lenVar": 40
   },
   "kernels_config": {
    "python": {
     "delete_cmd_postfix": "",
     "delete_cmd_prefix": "del ",
     "library": "var_list.py",
     "varRefreshCmd": "print(var_dic_list())"
    },
    "r": {
     "delete_cmd_postfix": ") ",
     "delete_cmd_prefix": "rm(",
     "library": "var_list.r",
     "varRefreshCmd": "cat(var_dic_list()) "
    }
   },
   "types_to_exclude": [
    "module",
    "function",
    "builtin_function_or_method",
    "instance",
    "_Feature"
   ],
   "window_display": false
  }
 },
 "nbformat": 4,
 "nbformat_minor": 5
}
